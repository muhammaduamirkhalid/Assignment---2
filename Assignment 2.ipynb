{
 "cells": [
  {
   "cell_type": "code",
   "execution_count": 1,
   "metadata": {},
   "outputs": [
    {
     "name": "stdout",
     "output_type": "stream",
     "text": [
      "your Marks in Autocad:54\n",
      "your Marks in Proe:54\n",
      "your Marks in C-Language:89\n",
      "your Marks in Photoshop:78\n",
      "your Marks in Premier Pro:52\n",
      "Gnenrating your Marksheet..........................................\n",
      "\n",
      "Subject  Marks Grade\n",
      "\n",
      "\n",
      "Autocad 54 C\n",
      "\n",
      "Proe 54 C\n",
      "\n",
      "C-Language 89 A-One\n",
      "\n",
      "Photoshop 78 A\n",
      "\n",
      "Premier Pro 52 C\n",
      "\n",
      "your Total Marks are: 327\n"
     ]
    }
   ],
   "source": [
    "#Write a program which takes 5 inputs from user for different subject’s#\n",
    "#marks, total it and generate mark sheet using grades ?#\n",
    "a = int(input(\"your Marks in Autocad:\"));\n",
    "X = \" \"\n",
    "if (a >= 80 and a <= 100):\n",
    "    X = 'A-One'\n",
    "elif (a >= 70 and a < 80):\n",
    "    X = 'A'\n",
    "elif (a >= 60 and a < 70):\n",
    "    X = 'B'\n",
    "elif (a >= 50 and a < 60):\n",
    "    X = 'C'\n",
    "elif (a >= 40 and a < 50):\n",
    "    X = 'D'\n",
    "elif (a >= 33 and a < 40):\n",
    "    X = 'E'\n",
    "elif (a >= 0 and a < 33):\n",
    "    X = 'FAIL'\n",
    "else:\n",
    "    X = \"inappropriate score\"\n",
    "#-----------------------------------------------------------#        \n",
    "b = int(input(\"your Marks in Proe:\"));\n",
    "Y = \" \"\n",
    "if (b >= 80 and b <= 100):\n",
    "    Y = 'A-One'\n",
    "elif (b >= 70 and b < 80):\n",
    "    Y = 'A'\n",
    "elif (b >= 60 and b < 70):\n",
    "    Y = 'B'\n",
    "elif (b >= 50 and b < 60):\n",
    "    Y = 'C' \n",
    "elif (b >= 40 and b < 50):\n",
    "    Y = 'D'\n",
    "elif (b >= 33 and b < 40):\n",
    "    Y = 'E'\n",
    "elif (b >= 0 and b < 33):\n",
    "    Y = 'FAIL'\n",
    "else:\n",
    "    Y = \"inappropriate score\"\n",
    "\n",
    "#-------------------------------------------------------------#\n",
    "c = int(input(\"your Marks in C-Language:\"));\n",
    "Z = \" \" \n",
    "if (c >= 80 and c <= 100):\n",
    "    Z = 'A-One'\n",
    "elif (c >= 70 and c < 80):\n",
    "    Z = 'A'\n",
    "elif (c >= 60 and c < 70):\n",
    "    Z = 'B'\n",
    "elif (c >= 50 and c < 60):\n",
    "    Z = 'C'\n",
    "elif (c >= 40 and c < 50):\n",
    "    Z = 'D'\n",
    "elif (c >= 33 and c < 40):\n",
    "    Z = 'E' \n",
    "elif (c >= 0 and c < 33):\n",
    "    Z = 'FAIL'\n",
    "else:\n",
    "    Z = \"inappropriate score\"\n",
    "#-------------------------------------------------------------#\n",
    "\n",
    "\n",
    "d = int(input(\"your Marks in Photoshop:\"));\n",
    "v = \" \"\n",
    "if (d >= 80 and d <= 100):\n",
    "    v = 'A-One'\n",
    "elif (d >= 70 and d < 80):\n",
    "    v = 'A'\n",
    "elif (d >= 60 and d < 70):\n",
    "    v = 'B'\n",
    "elif (d >= 50 and d < 60):\n",
    "    v = 'C'\n",
    "elif (d >= 40 and d < 50):\n",
    "    v = 'D'\n",
    "elif (d >= 33 and d < 40):\n",
    "    v = 'E'\n",
    "elif (d >= 0 and d < 33):\n",
    "    v = 'FAIL'\n",
    "else:\n",
    "    v = \"inappropriate score\"\n",
    "#-----------------------------------------------------------#\n",
    "\n",
    "\n",
    "e = int(input(\"your Marks in Premier Pro:\"));\n",
    "w = \" \"\n",
    "if (e >= 80 and e <= 100):\n",
    "    w = 'A-One'\n",
    "elif (e >= 70 and e < 80):\n",
    "    w = 'A'\n",
    "elif (e >= 60 and e < 70):\n",
    "    w = 'B'\n",
    "elif (e >= 50 and e < 60):\n",
    "    w = 'C'\n",
    "elif (e >= 40 and e < 50):\n",
    "    w = 'D'\n",
    "elif (e >= 33 and e < 40):\n",
    "    w = 'E'\n",
    "elif (e >= 0 and e < 33):\n",
    "    w = 'FAIL'\n",
    "else:\n",
    "    w = \"inappropriate score\"\n",
    "#-----------------------------------------------------------#\n",
    "print(\"Gnenrating your Marksheet..........................................\")\n",
    "\n",
    "print('\\n' + \"Subject  Marks Grade\" '\\n')\n",
    "print('\\n' + \"Autocad\" + \" \" + str(a) + \" \" + str(X) )\n",
    "print('\\n' + \"Proe\" + \" \" + str(b) + \" \"+str(Y) )\n",
    "print('\\n' + \"C-Language\" + \" \" + str(c) + \" \" + str(Z) )\n",
    "print('\\n' + \"Photoshop\" + \" \" + str(d) + \" \" + str(v) )\n",
    "print('\\n' + \"Premier Pro\" + \" \" + str(e) + \" \" + str(w) )\n",
    "total = a + b + c + d + e\n",
    "print('\\n' + \"your Total Marks are:\" + \" \" + str(total))\n"
   ]
  },
  {
   "cell_type": "code",
   "execution_count": 2,
   "metadata": {},
   "outputs": [
    {
     "name": "stdout",
     "output_type": "stream",
     "text": [
      "Enter your number here: 5\n",
      "\n",
      "5 is odd\n"
     ]
    }
   ],
   "source": [
    "#Write a program which take input from user and identify that the given number is even or odd?\n",
    "n = int(input(\"Enter your number here: \"))\n",
    "a = n % 2\n",
    "if a > 0:\n",
    "    print('\\n' + str(n) + \" \" + \"is odd\")\n",
    "else:\n",
    "    print('\\n' + str(n) + \" \" + \"is even\")\n",
    "\n"
   ]
  },
  {
   "cell_type": "code",
   "execution_count": 3,
   "metadata": {},
   "outputs": [
    {
     "name": "stdout",
     "output_type": "stream",
     "text": [
      "11\n"
     ]
    }
   ],
   "source": [
    "#Write a program which print the length of the list?\n",
    "a = [1, 1, 2, 3, 5, 8, 13, 21, 34, 55, 89]\n",
    "print(len(a))\n"
   ]
  },
  {
   "cell_type": "code",
   "execution_count": 4,
   "metadata": {},
   "outputs": [
    {
     "name": "stdout",
     "output_type": "stream",
     "text": [
      "232\n"
     ]
    }
   ],
   "source": [
    "#Write a Python program to sum all the numeric items in a list?\n",
    "a = [1, 1, 2, 3, 5, 8, 13, 21, 34, 55, 89]\n",
    "\n",
    "b = sum(list(a))\n",
    "print(str(b))\n"
   ]
  },
  {
   "cell_type": "code",
   "execution_count": 5,
   "metadata": {},
   "outputs": [
    {
     "name": "stdout",
     "output_type": "stream",
     "text": [
      "89\n"
     ]
    }
   ],
   "source": [
    "#Write a Python program to get the largest number from a numeric list.\n",
    "#a = [1, 1, 2, 3, 5, 8, 13, 21, 34, 55, 89]#\n",
    "\n",
    "b = max(list(a))\n",
    "print(str(b))\n",
    " \n"
   ]
  },
  {
   "cell_type": "code",
   "execution_count": 6,
   "metadata": {},
   "outputs": [
    {
     "name": "stdout",
     "output_type": "stream",
     "text": [
      "1\n",
      "1\n",
      "2\n",
      "3\n"
     ]
    }
   ],
   "source": [
    "#Take a list, say for example this one:\n",
    "#a = [1, 1, 2, 3, 5, 8, 13, 21, 34, 55, 89]\n",
    "#and write a program that prints out all the elements of the list that are\n",
    "#less than 5.\n",
    "a = [1, 1, 2, 3, 5, 8, 13, 21, 34, 55, 89]\n",
    "def print_less_five():\n",
    "    for i in list(a):\n",
    "        if (i < 5):\n",
    "            print(i)\n",
    "\n",
    "print_less_five()\n",
    "    \n",
    "        \n"
   ]
  },
  {
   "cell_type": "code",
   "execution_count": null,
   "metadata": {},
   "outputs": [],
   "source": []
  }
 ],
 "metadata": {
  "kernelspec": {
   "display_name": "Python 3",
   "language": "python",
   "name": "python3"
  },
  "language_info": {
   "codemirror_mode": {
    "name": "ipython",
    "version": 3
   },
   "file_extension": ".py",
   "mimetype": "text/x-python",
   "name": "python",
   "nbconvert_exporter": "python",
   "pygments_lexer": "ipython3",
   "version": "3.6.7"
  }
 },
 "nbformat": 4,
 "nbformat_minor": 2
}
