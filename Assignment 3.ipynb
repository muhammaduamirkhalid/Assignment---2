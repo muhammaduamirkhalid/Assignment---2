{
 "cells": [
  {
   "cell_type": "code",
   "execution_count": 2,
   "metadata": {},
   "outputs": [
    {
     "name": "stdout",
     "output_type": "stream",
     "text": [
      "Enter your first number here:8\n",
      "Enter your operator here:*\n",
      "Enter your second number here:5\n",
      "40\n"
     ]
    }
   ],
   "source": [
    "a = int(input(\"Enter your first number here:\"))\n",
    "o = input(\"Enter your operator here:\")\n",
    "b = int(input(\"Enter your second number here:\"))\n",
    "\n",
    "if o == '+':\n",
    "    c = a + b\n",
    "    print(str(c))\n",
    "elif o == '-':\n",
    "    c = a - b\n",
    "    print(str(c))\n",
    "elif o == '*':\n",
    "    c = a * b\n",
    "    print(str(c))\n",
    "elif o == '/':\n",
    "    c = a / b\n",
    "    print(str(c))\n",
    "elif o == '**':\n",
    "    c = a ** b\n",
    "    print(str(c))\n",
    "else:\n",
    "    print(\"You have selected a wrong operator\")\n",
    "\n",
    "    \n"
   ]
  },
  {
   "cell_type": "code",
   "execution_count": 4,
   "metadata": {},
   "outputs": [
    {
     "name": "stdout",
     "output_type": "stream",
     "text": [
      "There is a numeric value\n"
     ]
    }
   ],
   "source": [
    "l = [\"NED\",\"lahore\",5]\n",
    "for x in (l):\n",
    "    if ( int == type(x) or float == type(x) ):\n",
    "        print(\"There is a numeric value\")"
   ]
  },
  {
   "cell_type": "code",
   "execution_count": 5,
   "metadata": {},
   "outputs": [
    {
     "name": "stdout",
     "output_type": "stream",
     "text": [
      "before editting : {'hey': 'hi', 'umair': 'engineer'}\n",
      "\n",
      "after editting : {'hey': 'hi', 'umair': 'engineer', 'name': 'hayat'}\n"
     ]
    }
   ],
   "source": [
    "my_dict= {\"hey\":'hi',\"umair\":\"engineer\"}\n",
    "\n",
    "print(f\"before editting : {my_dict}\\n\")\n",
    "\n",
    "my_dict[\"name\"] = \"hayat\"\n",
    "\n",
    "print(f\"after editting : {my_dict}\")"
   ]
  },
  {
   "cell_type": "code",
   "execution_count": 6,
   "metadata": {},
   "outputs": [
    {
     "name": "stdout",
     "output_type": "stream",
     "text": [
      "sum of all numeric keys is:  0\n",
      "sum of all numeric values is:  35\n"
     ]
    }
   ],
   "source": [
    "my_dict ={\"Car\":10,\"House\":25,\"65\":\"body_weight\"}\n",
    "\n",
    "sum_key = []\n",
    "sum_values = []\n",
    "\n",
    "for x,y in my_dict.items():\n",
    "    if type(x) != str:\n",
    "        sum_key.append(x)\n",
    "    if type(y) != str:\n",
    "        sum_values.append(y)\n",
    "        \n",
    "print(\"sum of all numeric keys is: \",sum(sum_key))\n",
    "print(\"sum of all numeric values is: \",sum(sum_values))"
   ]
  },
  {
   "cell_type": "code",
   "execution_count": 7,
   "metadata": {},
   "outputs": [
    {
     "name": "stdout",
     "output_type": "stream",
     "text": [
      "duplicate values exist\n"
     ]
    }
   ],
   "source": [
    "l = [0,1,2,2,4,5,\"Pakistan\",\"Pakistan\"]\n",
    "d=[]\n",
    "for x in range(len(l)):\n",
    "    if l[x] not in d:\n",
    "        d.append(l[x])\n",
    "        \n",
    "if len(l) == len(d):\n",
    "        print(\"there is no duplicate values\")\n",
    "else:\n",
    "    print(\"duplicate values exist\")"
   ]
  },
  {
   "cell_type": "code",
   "execution_count": 9,
   "metadata": {},
   "outputs": [
    {
     "name": "stdout",
     "output_type": "stream",
     "text": [
      "There is no such thing duplicate keys. Keys always unique if you give any duplicate key than it will over write the previous values\n"
     ]
    }
   ],
   "source": [
    " print(\"There is no such thing duplicate keys. Keys always unique if you give any duplicate key than it will over write the previous values\")"
   ]
  },
  {
   "cell_type": "code",
   "execution_count": null,
   "metadata": {},
   "outputs": [],
   "source": []
  }
 ],
 "metadata": {
  "kernelspec": {
   "display_name": "Python 3",
   "language": "python",
   "name": "python3"
  },
  "language_info": {
   "codemirror_mode": {
    "name": "ipython",
    "version": 3
   },
   "file_extension": ".py",
   "mimetype": "text/x-python",
   "name": "python",
   "nbconvert_exporter": "python",
   "pygments_lexer": "ipython3",
   "version": "3.6.7"
  }
 },
 "nbformat": 4,
 "nbformat_minor": 2
}
