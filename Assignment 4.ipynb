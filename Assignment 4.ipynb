{
 "cells": [
  {
   "cell_type": "code",
   "execution_count": 1,
   "metadata": {},
   "outputs": [
    {
     "name": "stdout",
     "output_type": "stream",
     "text": [
      "Printing your dictionry..........................\n",
      "First Name = Muhammad\n",
      "Last Name = Umair\n",
      "age = 20\n",
      "city = Karachi\n",
      "Adding qualification to your dictionary..........\n",
      "First Name = Muhammad\n",
      "Last Name = Umair\n",
      "age = 20\n",
      "city = Karachi\n",
      "Qualification = Inter\n",
      "Updating qualification in dictionary.............\n",
      "First Name = Muhammad\n",
      "Last Name = Umair\n",
      "age = 20\n",
      "city = Karachi\n",
      "Qualification = Graduation\n",
      "Deleting qualification from dictionary...........\n",
      "Printing you final result of your dictionary.....\n",
      "{'first_name': 'Muhammad', 'last_name': 'Umair', 'age': 20, 'city': 'Karachi'}\n"
     ]
    }
   ],
   "source": [
    "#Use a dictionary to store information about a person you know. Store their first name, last name, age,\n",
    "#and the city in which they live. You should have keys such as first_name, last_name, age, and city. Print\n",
    "#each piece of information stored in your dictionary. Add a new key value pair about qualification then\n",
    "#update the qualification value to high academic level then delete it.\n",
    "\n",
    "\n",
    "di = {'first_name': 'Muhammad', 'last_name': 'Umair', 'age': 20, 'city': 'Karachi'}\n",
    "print(\"Printing your dictionry..........................\")\n",
    "print(\"First Name\" + \" \" + \"=\" , di['first_name'])\n",
    "print(\"Last Name\" + \" \" + \"=\" , di['last_name'])\n",
    "print(\"age\" + \" \" + \"=\" , di['age'])\n",
    "print(\"city\" + \" \" + \"=\" , di['city'])\n",
    "\n",
    "di['qualification'] = 'Inter'\n",
    "\n",
    "print(\"Adding qualification to your dictionary..........\")\n",
    "print(\"First Name\" + \" \" + \"=\" , di['first_name'])\n",
    "print(\"Last Name\" + \" \" + \"=\" , di['last_name'])\n",
    "print(\"age\" + \" \" + \"=\" , di['age'])\n",
    "print(\"city\" + \" \" + \"=\" , di['city'])\n",
    "print(\"Qualification\" + \" \" + \"=\" , di['qualification'])\n",
    "\n",
    "di['qualification'] = 'Graduation'\n",
    "\n",
    "print(\"Updating qualification in dictionary.............\")\n",
    "print(\"First Name\" + \" \" + \"=\" , di['first_name'])\n",
    "print(\"Last Name\" + \" \" + \"=\" , di['last_name'])\n",
    "print(\"age\" + \" \" + \"=\" , di['age'])\n",
    "print(\"city\" + \" \" + \"=\" , di['city'])\n",
    "print(\"Qualification\" + \" \" + \"=\" , di['qualification'])\n",
    "\n",
    "del(di['qualification'])\n",
    "print(\"Deleting qualification from dictionary...........\")\n",
    "print(\"Printing you final result of your dictionary.....\")\n",
    "print(di)\n",
    "\n"
   ]
  },
  {
   "cell_type": "code",
   "execution_count": 2,
   "metadata": {},
   "outputs": [
    {
     "name": "stdout",
     "output_type": "stream",
     "text": [
      "\n",
      "Santiago is in Chile.\n",
      "  It has a population of about 6158080.\n",
      "  The Andes mountains are nearby.\n",
      "\n",
      "Talkeetna is in Alaska.\n",
      "  It has a population of about 876.\n",
      "  The Alaska Range mountains are nearby.\n",
      "\n",
      "Kathmandu is in Nepal.\n",
      "  It has a population of about 1003285.\n",
      "  The Himilaya mountains are nearby.\n"
     ]
    }
   ],
   "source": [
    "#Make a dictionary called cities. Use the names of three cities as keys in your dictionary. Create a\n",
    "#dictionary of information about each city and include the country that the city is in, its approximate\n",
    "#population, and one fact about that city. The keys for each city’s dictionary should be something like\n",
    "#country, population, and fact. Print the name of each city and all of the information you have stored\n",
    "#about it.\n",
    "\n",
    "\n",
    "cities = {\n",
    "    'santiago': {\n",
    "        'country': 'chile',\n",
    "        'population': 6158080,\n",
    "        'nearby mountains': 'andes',\n",
    "        },\n",
    "    'talkeetna': {\n",
    "        'country': 'alaska',\n",
    "        'population': 876,\n",
    "        'nearby mountains': 'alaska range',\n",
    "        },\n",
    "    'kathmandu': {\n",
    "        'country': 'nepal',\n",
    "        'population': 1003285,\n",
    "        'nearby mountains': 'himilaya',\n",
    "        }\n",
    "    }\n",
    "\n",
    "for city, city_info in cities.items():\n",
    "    country = city_info['country'].title()\n",
    "    population = city_info['population']\n",
    "    mountains = city_info['nearby mountains'].title()\n",
    "\n",
    "    print(\"\\n\" + city.title() + \" is in \" + country + \".\")\n",
    "    print(\"  It has a population of about \" + str(population) + \".\")\n",
    "    print(\"  The \" + mountains + \" mountains are nearby.\")\n"
   ]
  },
  {
   "cell_type": "code",
   "execution_count": 3,
   "metadata": {},
   "outputs": [
    {
     "name": "stdout",
     "output_type": "stream",
     "text": [
      "Enter your age here:8\n",
      "Your ticket is of 10$\n"
     ]
    }
   ],
   "source": [
    "#A movie theater charges different ticket prices depending on a person’s age. If a person is under the age\n",
    "#of 3, the ticket is free; if they are between 3 and 12, the ticket is $10; and if they are over age 12, the\n",
    "#ticket is $15. Write a loop in which you ask users their age, and then tell them the cost of their movie\n",
    "#ticket.\n",
    "\n",
    "a = int(input(\"Enter your age here:\"))\n",
    "if a < 3:\n",
    "    print(\"Your ticket is free\")\n",
    "elif(a < 12):\n",
    "    print(\"Your ticket is of 10$\")\n",
    "else:\n",
    "    print(\"Your ticket is of 15$\")\n"
   ]
  },
  {
   "cell_type": "code",
   "execution_count": 4,
   "metadata": {},
   "outputs": [
    {
     "name": "stdout",
     "output_type": "stream",
     "text": [
      "One of my favourite book is Alice in  wounder land\n"
     ]
    }
   ],
   "source": [
    "#Write a function called favorite_book() that accepts one parameter, title. The function should print a\n",
    "#message, such as One of my favorite books is Alice in Wonderland. Call the function, making sure to\n",
    "#include a book title as an argument in the function call.\n",
    "\n",
    "\n",
    "def favourite_book(title):\n",
    "    print(\"One of my favourite book is\" + \" \" + title)\n",
    "favourite_book(title = \"Alice in  wounder land\")\n"
   ]
  },
  {
   "cell_type": "code",
   "execution_count": 5,
   "metadata": {},
   "outputs": [
    {
     "name": "stdout",
     "output_type": "stream",
     "text": [
      "Enter you number here:5\n",
      "Your guess is less than generated number\n",
      "You have guessed the wrong number\n",
      "Enter you number here:26\n",
      "Your guess is greater than generated number\n",
      "You have guessed the wrong number\n",
      "Enter you number here:15\n",
      "Your guess is less than generated number\n",
      "You have guessed the wrong number\n",
      "you turns are over, better luck next time\n"
     ]
    }
   ],
   "source": [
    "#Guess the number game\n",
    "#Write a program which randomly generate a number between 1 to 30 and ask the user in input field to\n",
    "#guess the correct number. Give three chances to user guess the number and also give hint to user if\n",
    "#hidden number is greater or smaller than the number he given to input field.\n",
    "\n",
    "from  random import randint\n",
    "guess = 0\n",
    "a = randint(1, 30)\n",
    "\n",
    "\n",
    "\n",
    "while guess < 3:\n",
    "    b = int(input(\"Enter you number here:\"))\n",
    "    guess = guess + 1\n",
    "\n",
    "\n",
    "    if a < b:\n",
    "        print(\"Your guess is greater than generated number\")\n",
    "    if a > b:\n",
    "        print(\"Your guess is less than generated number\")\n",
    "    if a == b:\n",
    "         print(\"YOU have guessed the right number\")\n",
    "    if a != b:\n",
    "        print(\"You have guessed the wrong number\")\n",
    "if guess == 3:\n",
    "    print(\"you turns are over, better luck next time\")\n"
   ]
  },
  {
   "cell_type": "code",
   "execution_count": null,
   "metadata": {},
   "outputs": [],
   "source": []
  }
 ],
 "metadata": {
  "kernelspec": {
   "display_name": "Python 3",
   "language": "python",
   "name": "python3"
  },
  "language_info": {
   "codemirror_mode": {
    "name": "ipython",
    "version": 3
   },
   "file_extension": ".py",
   "mimetype": "text/x-python",
   "name": "python",
   "nbconvert_exporter": "python",
   "pygments_lexer": "ipython3",
   "version": "3.6.7"
  }
 },
 "nbformat": 4,
 "nbformat_minor": 2
}
