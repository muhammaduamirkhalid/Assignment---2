{
 "cells": [
  {
   "cell_type": "code",
   "execution_count": 1,
   "metadata": {},
   "outputs": [
    {
     "name": "stdout",
     "output_type": "stream",
     "text": [
      "Enter the radius of the circle here in meters:45\n",
      "The area of the circle of radius45 is 6361.725123519332m\n"
     ]
    }
   ],
   "source": [
    "#Write a Python program which accepts the radius of a circle from the user and compute the area.\n",
    "import math\n",
    "b = float(math.pi)\n",
    "\n",
    "a = int(input(\"Enter the radius of the circle here in meters:\"))\n",
    "area = b * a * a\n",
    "print(\"The area of the circle of radius\" + str(a) + \" \" + \"is\" + \" \" + str(area) + \"m\")\n",
    "\n"
   ]
  },
  {
   "cell_type": "code",
   "execution_count": 2,
   "metadata": {},
   "outputs": [
    {
     "name": "stdout",
     "output_type": "stream",
     "text": [
      "2019-11-21 20:10:55.515647\n"
     ]
    }
   ],
   "source": [
    "#Write a Python program to display the current date and time.\n",
    "import datetime\n",
    "A = datetime.datetime.now()\n",
    "print(A)\n"
   ]
  },
  {
   "cell_type": "code",
   "execution_count": 3,
   "metadata": {},
   "outputs": [
    {
     "name": "stdout",
     "output_type": "stream",
     "text": [
      "First Name:muhammad umair khalid\n",
      "Last Name:muhammad khalid javed\n",
      "muhammad khalid javed muhammad umair khalid\n"
     ]
    }
   ],
   "source": [
    "#Write a Python program which accepts the user's first and last name and print them in reverse order with a space between them.\n",
    "a = input(\"First Name:\")\n",
    "b = input(\"Last Name:\")\n",
    "print(str(b) + \" \" + str(a))\n"
   ]
  },
  {
   "cell_type": "code",
   "execution_count": 4,
   "metadata": {},
   "outputs": [
    {
     "name": "stdout",
     "output_type": "stream",
     "text": [
      "Enter you first number here:5\n",
      "Enter you second number here:4\n",
      "9\n"
     ]
    }
   ],
   "source": [
    "#make two different integers input and the porgram will sum them\n",
    "a = int(input(\"Enter you first number here:\"))\n",
    "b = int(input(\"Enter you second number here:\"))\n",
    "print(a + b)\n"
   ]
  },
  {
   "cell_type": "code",
   "execution_count": 6,
   "metadata": {},
   "outputs": [
    {
     "name": "stdout",
     "output_type": "stream",
     "text": [
      "Twinkle, twinkle, little star,\n",
      "  How I wonder what you are!\n",
      "   Up above the world so high,\n",
      "   Like a diamond in the sky.\n",
      "Twinkle, twinkle, little star,\n",
      "  How I wonder what you are\n"
     ]
    }
   ],
   "source": [
    "#Write a Python program to print the following string in a specific format\n",
    "\n",
    "a = (\"Twinkle, twinkle, little star,\")\n",
    "b = (\"How I wonder what you are!\")\n",
    "c = (\"Up above the world so high,\")\n",
    "d = (\"Like a diamond in the sky.\")\n",
    "e = (\"Twinkle, twinkle, little star,\")\n",
    "f = (\"How I wonder what you are\")\n",
    "\n",
    "\n",
    "print(str(a) + '\\n' + \" \" + \" \" + str(b) + '\\n' + \" \" + \" \" + \" \" + str(c) + '\\n'\n",
    "      + \" \" + \" \" + \" \" + str(d) + '\\n' + str(e) + '\\n' + \" \" + \" \" + str(f) )\n"
   ]
  },
  {
   "cell_type": "code",
   "execution_count": 7,
   "metadata": {},
   "outputs": [
    {
     "name": "stdout",
     "output_type": "stream",
     "text": [
      "3.6.7 | packaged by conda-forge | (default, Jul  2 2019, 02:18:42) \n",
      "[GCC 7.3.0]\n"
     ]
    }
   ],
   "source": [
    "import sys\n",
    "print(sys.version)\n"
   ]
  },
  {
   "cell_type": "code",
   "execution_count": null,
   "metadata": {},
   "outputs": [],
   "source": []
  }
 ],
 "metadata": {
  "kernelspec": {
   "display_name": "Python 3",
   "language": "python",
   "name": "python3"
  },
  "language_info": {
   "codemirror_mode": {
    "name": "ipython",
    "version": 3
   },
   "file_extension": ".py",
   "mimetype": "text/x-python",
   "name": "python",
   "nbconvert_exporter": "python",
   "pygments_lexer": "ipython3",
   "version": "3.6.7"
  }
 },
 "nbformat": 4,
 "nbformat_minor": 2
}
